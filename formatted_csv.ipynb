{
 "cells": [
  {
   "cell_type": "code",
   "execution_count": 10,
   "id": "e38c7849",
   "metadata": {},
   "outputs": [],
   "source": [
    "# Importing Required Libraries\n",
    "import numpy as np\n",
    "import pandas as pd"
   ]
  },
  {
   "cell_type": "code",
   "execution_count": 11,
   "id": "b5a314ad",
   "metadata": {},
   "outputs": [],
   "source": [
    "# reading CSV that Contains Revised data\n",
    "df = pd.read_csv('zenarate_user_cleaned.csv')"
   ]
  },
  {
   "cell_type": "code",
   "execution_count": 12,
   "id": "2da2ddf1",
   "metadata": {},
   "outputs": [],
   "source": [
    "# Splitting Name to First and last name\n",
    "df[['First_name*','Last_name*']] = df['User Name'].loc[df['User Name'].str.split().str.len() == 2].str.split(expand=True)"
   ]
  },
  {
   "cell_type": "code",
   "execution_count": 13,
   "id": "b3cfa253",
   "metadata": {},
   "outputs": [
    {
     "data": {
      "text/html": [
       "<div>\n",
       "<style scoped>\n",
       "    .dataframe tbody tr th:only-of-type {\n",
       "        vertical-align: middle;\n",
       "    }\n",
       "\n",
       "    .dataframe tbody tr th {\n",
       "        vertical-align: top;\n",
       "    }\n",
       "\n",
       "    .dataframe thead th {\n",
       "        text-align: right;\n",
       "    }\n",
       "</style>\n",
       "<table border=\"1\" class=\"dataframe\">\n",
       "  <thead>\n",
       "    <tr style=\"text-align: right;\">\n",
       "      <th></th>\n",
       "      <th>User Name</th>\n",
       "      <th>Role</th>\n",
       "      <th>LABEL\\nROLE</th>\n",
       "      <th>LABEL\\nFPA Class</th>\n",
       "      <th>LABEL\\nNetwork Office</th>\n",
       "      <th>Primary Coach</th>\n",
       "      <th>Primary Coach's Email</th>\n",
       "      <th>Secondary Coach</th>\n",
       "      <th>Secondary Coach's Email</th>\n",
       "      <th>Other Coaches</th>\n",
       "      <th>...</th>\n",
       "      <th>Status</th>\n",
       "      <th>Date of Joining</th>\n",
       "      <th>Date of Inactivation</th>\n",
       "      <th>User-Id</th>\n",
       "      <th>Secondary Email</th>\n",
       "      <th>First_name*</th>\n",
       "      <th>Last_name*</th>\n",
       "      <th>Team_name*</th>\n",
       "      <th>Password</th>\n",
       "      <th>DefaultEmail</th>\n",
       "    </tr>\n",
       "  </thead>\n",
       "  <tbody>\n",
       "    <tr>\n",
       "      <th>0</th>\n",
       "      <td>Kris Holley</td>\n",
       "      <td>Admin</td>\n",
       "      <td>Administrator</td>\n",
       "      <td>NaN</td>\n",
       "      <td>NaN</td>\n",
       "      <td>Sarah Briggs</td>\n",
       "      <td>sarahbriggs@northwesternmutual.com</td>\n",
       "      <td>Kim Leinen</td>\n",
       "      <td>kimleinen@northwesternmutual.com</td>\n",
       "      <td>Ateela Duffy,Blake Reistad,David Balmer,Develo...</td>\n",
       "      <td>...</td>\n",
       "      <td>Active</td>\n",
       "      <td>Oct 13 2022</td>\n",
       "      <td>NaN</td>\n",
       "      <td>kristopherholley@northwesternmutual.com</td>\n",
       "      <td>NaN</td>\n",
       "      <td>Kris</td>\n",
       "      <td>Holley</td>\n",
       "      <td>Northwestern Mutual</td>\n",
       "      <td></td>\n",
       "      <td>1</td>\n",
       "    </tr>\n",
       "  </tbody>\n",
       "</table>\n",
       "<p>1 rows × 21 columns</p>\n",
       "</div>"
      ],
      "text/plain": [
       "     User Name   Role    LABEL\\nROLE LABEL\\nFPA Class LABEL\\nNetwork Office  \\\n",
       "0  Kris Holley  Admin  Administrator              NaN                   NaN   \n",
       "\n",
       "  Primary Coach               Primary Coach's Email Secondary Coach  \\\n",
       "0  Sarah Briggs  sarahbriggs@northwesternmutual.com      Kim Leinen   \n",
       "\n",
       "            Secondary Coach's Email  \\\n",
       "0  kimleinen@northwesternmutual.com   \n",
       "\n",
       "                                       Other Coaches  ...  Status  \\\n",
       "0  Ateela Duffy,Blake Reistad,David Balmer,Develo...  ...  Active   \n",
       "\n",
       "  Date of Joining Date of Inactivation  \\\n",
       "0     Oct 13 2022                  NaN   \n",
       "\n",
       "                                   User-Id Secondary Email  First_name*  \\\n",
       "0  kristopherholley@northwesternmutual.com             NaN         Kris   \n",
       "\n",
       "  Last_name*           Team_name* Password DefaultEmail  \n",
       "0     Holley  Northwestern Mutual                     1  \n",
       "\n",
       "[1 rows x 21 columns]"
      ]
     },
     "execution_count": 13,
     "metadata": {},
     "output_type": "execute_result"
    }
   ],
   "source": [
    "# Adding Team-Name Column in Dataframe\n",
    "df['Team_name*'], df['Password'], df['DefaultEmail'] = \"Northwestern Mutual\" , \"\", 1\n",
    "df.head(1)"
   ]
  },
  {
   "cell_type": "code",
   "execution_count": 14,
   "id": "a5dae96c",
   "metadata": {},
   "outputs": [],
   "source": [
    "# Renaming Columns According To Desired Output\n",
    "df.rename(columns = {\n",
    "    \"Role\":\"Role_name*\", \n",
    "    \"User-Id\": \"User-ID_email*\", \n",
    "    \"Secondary Email\": \"Secondary_email\",\n",
    "    \"Primary Coach's Email\": \"Primary_coach_email\",\n",
    "    \"Secondary Coach's Email\": \"Secondary_coach_email\",\n",
    "    \"Other Coaches\": \"Other_coach\",\n",
    "    \"LABEL\\nROLE\": \"Role\",\n",
    "    \"LABEL\\nNetwork Office\": \"Network Office\",\n",
    "    \"LABEL\\nFPA Class\": \"FPA Class\"\n",
    "}\n",
    "    , inplace = True)"
   ]
  },
  {
   "cell_type": "code",
   "execution_count": 16,
   "id": "a3082192",
   "metadata": {},
   "outputs": [],
   "source": [
    "# Dropping Irrelevant columns\n",
    "df.drop(['User Name', 'Primary Coach', 'Secondary Coach', \"Other Coaches's Email\", 'Status', 'Date of Joining', \n",
    "         'Date of Inactivation',], axis=1, inplace=True)"
   ]
  },
  {
   "cell_type": "code",
   "execution_count": 21,
   "id": "2e1649f3",
   "metadata": {},
   "outputs": [
    {
     "data": {
      "text/html": [
       "<div>\n",
       "<style scoped>\n",
       "    .dataframe tbody tr th:only-of-type {\n",
       "        vertical-align: middle;\n",
       "    }\n",
       "\n",
       "    .dataframe tbody tr th {\n",
       "        vertical-align: top;\n",
       "    }\n",
       "\n",
       "    .dataframe thead th {\n",
       "        text-align: right;\n",
       "    }\n",
       "</style>\n",
       "<table border=\"1\" class=\"dataframe\">\n",
       "  <thead>\n",
       "    <tr style=\"text-align: right;\">\n",
       "      <th></th>\n",
       "      <th>Role_name*</th>\n",
       "      <th>Role</th>\n",
       "      <th>FPA Class</th>\n",
       "      <th>Network Office</th>\n",
       "      <th>Primary_coach_email</th>\n",
       "      <th>Secondary_coach_email</th>\n",
       "      <th>Other_coach</th>\n",
       "      <th>User-ID_email*</th>\n",
       "      <th>Secondary_email</th>\n",
       "      <th>First_name*</th>\n",
       "      <th>Last_name*</th>\n",
       "      <th>Team_name*</th>\n",
       "      <th>Password</th>\n",
       "      <th>DefaultEmail</th>\n",
       "    </tr>\n",
       "  </thead>\n",
       "  <tbody>\n",
       "    <tr>\n",
       "      <th>2476</th>\n",
       "      <td>Super User</td>\n",
       "      <td>FR</td>\n",
       "      <td>6 August 2023</td>\n",
       "      <td>GA135</td>\n",
       "      <td>NaN</td>\n",
       "      <td>NaN</td>\n",
       "      <td>NaN</td>\n",
       "      <td>pedro.r.garcia@gmail.com</td>\n",
       "      <td>NaN</td>\n",
       "      <td>Pedro</td>\n",
       "      <td>Garcia</td>\n",
       "      <td>Northwestern Mutual</td>\n",
       "      <td></td>\n",
       "      <td>1</td>\n",
       "    </tr>\n",
       "  </tbody>\n",
       "</table>\n",
       "</div>"
      ],
      "text/plain": [
       "      Role_name* Role      FPA Class Network Office Primary_coach_email  \\\n",
       "2476  Super User   FR  6 August 2023          GA135                 NaN   \n",
       "\n",
       "     Secondary_coach_email Other_coach            User-ID_email*  \\\n",
       "2476                   NaN         NaN  pedro.r.garcia@gmail.com   \n",
       "\n",
       "      Secondary_email First_name* Last_name*           Team_name* Password  \\\n",
       "2476              NaN       Pedro     Garcia  Northwestern Mutual            \n",
       "\n",
       "      DefaultEmail  \n",
       "2476             1  "
      ]
     },
     "execution_count": 21,
     "metadata": {},
     "output_type": "execute_result"
    }
   ],
   "source": [
    "df.tail(1)"
   ]
  },
  {
   "cell_type": "code",
   "execution_count": 18,
   "id": "45e7967d",
   "metadata": {},
   "outputs": [],
   "source": [
    "# Changing Column Positions According to Requirement\n",
    "updated_df = df.iloc[:,[11, 0, 9, 10, 7, 8, 12, 13, 4, 5, 6, 1, 3, 2]]"
   ]
  },
  {
   "cell_type": "code",
   "execution_count": 19,
   "id": "3909db9e",
   "metadata": {},
   "outputs": [
    {
     "data": {
      "text/html": [
       "<div>\n",
       "<style scoped>\n",
       "    .dataframe tbody tr th:only-of-type {\n",
       "        vertical-align: middle;\n",
       "    }\n",
       "\n",
       "    .dataframe tbody tr th {\n",
       "        vertical-align: top;\n",
       "    }\n",
       "\n",
       "    .dataframe thead th {\n",
       "        text-align: right;\n",
       "    }\n",
       "</style>\n",
       "<table border=\"1\" class=\"dataframe\">\n",
       "  <thead>\n",
       "    <tr style=\"text-align: right;\">\n",
       "      <th></th>\n",
       "      <th>Team_name*</th>\n",
       "      <th>Role_name*</th>\n",
       "      <th>First_name*</th>\n",
       "      <th>Last_name*</th>\n",
       "      <th>User-ID_email*</th>\n",
       "      <th>Secondary_email</th>\n",
       "      <th>Password</th>\n",
       "      <th>DefaultEmail</th>\n",
       "      <th>Primary_coach_email</th>\n",
       "      <th>Secondary_coach_email</th>\n",
       "      <th>Other_coach</th>\n",
       "      <th>Role</th>\n",
       "      <th>Network Office</th>\n",
       "      <th>FPA Class</th>\n",
       "    </tr>\n",
       "  </thead>\n",
       "  <tbody>\n",
       "    <tr>\n",
       "      <th>0</th>\n",
       "      <td>Northwestern Mutual</td>\n",
       "      <td>Admin</td>\n",
       "      <td>Kris</td>\n",
       "      <td>Holley</td>\n",
       "      <td>kristopherholley@northwesternmutual.com</td>\n",
       "      <td>NaN</td>\n",
       "      <td></td>\n",
       "      <td>1</td>\n",
       "      <td>sarahbriggs@northwesternmutual.com</td>\n",
       "      <td>kimleinen@northwesternmutual.com</td>\n",
       "      <td>Ateela Duffy,Blake Reistad,David Balmer,Develo...</td>\n",
       "      <td>Administrator</td>\n",
       "      <td>NaN</td>\n",
       "      <td>NaN</td>\n",
       "    </tr>\n",
       "  </tbody>\n",
       "</table>\n",
       "</div>"
      ],
      "text/plain": [
       "            Team_name* Role_name* First_name* Last_name*  \\\n",
       "0  Northwestern Mutual      Admin        Kris     Holley   \n",
       "\n",
       "                            User-ID_email*  Secondary_email Password  \\\n",
       "0  kristopherholley@northwesternmutual.com              NaN            \n",
       "\n",
       "   DefaultEmail                 Primary_coach_email  \\\n",
       "0             1  sarahbriggs@northwesternmutual.com   \n",
       "\n",
       "              Secondary_coach_email  \\\n",
       "0  kimleinen@northwesternmutual.com   \n",
       "\n",
       "                                         Other_coach           Role  \\\n",
       "0  Ateela Duffy,Blake Reistad,David Balmer,Develo...  Administrator   \n",
       "\n",
       "  Network Office FPA Class  \n",
       "0            NaN       NaN  "
      ]
     },
     "execution_count": 19,
     "metadata": {},
     "output_type": "execute_result"
    }
   ],
   "source": [
    "updated_df.head(1)"
   ]
  },
  {
   "cell_type": "code",
   "execution_count": 20,
   "id": "38044b3a",
   "metadata": {},
   "outputs": [],
   "source": [
    "# Saving Updated Dataframe in CSV\n",
    "updated_df.to_csv('zenarate_user_to_be_updated.csv', index=False)"
   ]
  },
  {
   "cell_type": "code",
   "execution_count": 22,
   "id": "a2712f0e",
   "metadata": {},
   "outputs": [
    {
     "data": {
      "text/plain": [
       "(2477, 14)"
      ]
     },
     "execution_count": 22,
     "metadata": {},
     "output_type": "execute_result"
    }
   ],
   "source": [
    "updated_df.shape"
   ]
  },
  {
   "cell_type": "code",
   "execution_count": null,
   "id": "81a1c1b4",
   "metadata": {},
   "outputs": [],
   "source": []
  }
 ],
 "metadata": {
  "kernelspec": {
   "display_name": "Python 3 (ipykernel)",
   "language": "python",
   "name": "python3"
  },
  "language_info": {
   "codemirror_mode": {
    "name": "ipython",
    "version": 3
   },
   "file_extension": ".py",
   "mimetype": "text/x-python",
   "name": "python",
   "nbconvert_exporter": "python",
   "pygments_lexer": "ipython3",
   "version": "3.11.1"
  }
 },
 "nbformat": 4,
 "nbformat_minor": 5
}
